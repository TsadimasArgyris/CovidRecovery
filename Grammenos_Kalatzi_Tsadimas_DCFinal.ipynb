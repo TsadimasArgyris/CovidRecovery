{
 "cells": [
  {
   "cell_type": "code",
   "execution_count": 1,
   "id": "3cc2a0f7-ab01-413d-abe6-48a331384e56",
   "metadata": {},
   "outputs": [],
   "source": [
    "#################################################################################################################################################################################\n",
    "# Purpose  : Data Engineering Final Exam\n",
    "#            Analysis of the Paycheck Protection Program loans to understand the distribution of helping loans to businesses across the United States. \n",
    "#\n",
    "# \n",
    "# Analysis: Step 1: a. Load into an indexed Pandas data frame the variables: Loan Amount, Borrower’s State, Date Approved and NAICS Code from all available PPP files\n",
    "#                       (keep only two-digit NAICS).\n",
    "#                   b. Add in the data frame a LoanProgram variable that takes the value “PPP” for all rows.\n",
    "#\n",
    "#           Step 2: a. Load into an indexed Pandas data frame the variables: ACTIONDATE, PRIMPLACEOFPERFORMANCECD, FACEVALUEOFDIRECTLOANORLOANGUARANTEE for all the EIDL loans.\n",
    "#                   b. Create a new variable in the EIDL data frame that takes the value “EIDL” for all rows.\n",
    "#                   c. Retrieve the State from the PRIMPLACEOFPERFORMANCECD variable.\n",
    "#                   d. Merge the EIDL and PPP by State.\n",
    "#\n",
    "#           Step 3: a. Compute the total Number of Loans and Total Amount per State and NAICS code.\n",
    "#                   b. Load the data into a Pandas data frame the variables \"FIRMPDEMP\" (number of firms) and \"PAYANN\" (annual emplyee pay) to normalize \n",
    "#                      the Number of Loans and Total Loan Amount.\n",
    "#                   c. Plot two heat maps of the US by State, that show the normalized variables.\n",
    "#\n",
    "# In order to run this code you have to download all the PPP files from this link: https://data.sba.gov/dataset/ppp-foia. \n",
    "# These files contain information on a loan program from the US federal government in 2020, to help business pay their workers during the Covid-19 pandemic.\n",
    "# After downloading, assign to the \"folder_path\" and \"output_folder\" variables, the folder path of the saved PPP Data.\n",
    "#\n",
    "# Next, download the EIDL data from SBA : https://data.sba.gov/dataset/covid-19-eidl.\n",
    "# The EIDL is another US government program designed to help business recover from COVID impact.\n",
    "# Those files will be inside of a zip file of the form april-2021-.... you have to unzip this folder and put all these \n",
    "# files into the folder where you have the PPP data.\n",
    "# \n",
    "# You will not be able to run this code if you do not download all the necessary files and put them in the same folder.\n",
    "# \n",
    "# Authors  : Grammenos Konstantinos, Kalatzi Marilena, Tsadimas Anargyros\n",
    "# Professor: Kechagias Stefanos\n",
    "# Date     : June 2024\n",
    "##################################################################################################################################################################################"
   ]
  },
  {
   "cell_type": "code",
   "execution_count": 2,
   "id": "dceca133-43ca-4ee5-80c3-cd3df6e9163f",
   "metadata": {},
   "outputs": [],
   "source": [
    "# import libraries\n",
    "import pandas as pd\n",
    "import os\n",
    "import matplotlib.pyplot as plt\n",
    "import seaborn as sns"
   ]
  },
  {
   "cell_type": "markdown",
   "id": "873d2350-491f-4519-986a-2dd2e8a2fabe",
   "metadata": {},
   "source": [
    "## Task 1 ##\n",
    "1. Load into an indexed Pandas data frame the variables: Loan Amount, Borrower’s State, Date Approved and NAICS Code from all available PPP files (keep only two-digit NAICS)"
   ]
  },
  {
   "cell_type": "code",
   "execution_count": 3,
   "id": "bd6a22b0-e138-4efe-88e5-73742867d42a",
   "metadata": {},
   "outputs": [],
   "source": [
    "# Map variable types to later be correctly loaded\n",
    "dtype_mapping = {'DateApproved'         : 'str', \n",
    "                 'BorrowerState'        : 'category',\n",
    "                 'CurrentApprovalAmount': 'float32', \n",
    "                 'NAICSCode'            : 'str'\n",
    "                }"
   ]
  },
  {
   "cell_type": "code",
   "execution_count": 4,
   "id": "a43d9fa4-c919-4832-b112-221a6fae9fad",
   "metadata": {},
   "outputs": [],
   "source": [
    "# Select appropriate columns for analysis\n",
    "selected_columns = ['DateApproved', 'BorrowerState', 'CurrentApprovalAmount', 'NAICSCode']"
   ]
  },
  {
   "cell_type": "code",
   "execution_count": 5,
   "id": "a75c1ee1-b90a-49d4-8755-206445e9166b",
   "metadata": {},
   "outputs": [],
   "source": [
    "# Define the folder path where my PPP data are\n",
    "\n",
    "folder_path = 'C:\\\\Users\\\\Mariloon\\\\Documents\\\\Desktop Backup\\\\MSc. Statistics\\\\Data Engineering\\\\Final Exam\\\\RawData'\n",
    "output_folder = 'C:\\\\Users\\\\Mariloon\\\\Documents\\\\Desktop Backup\\\\MSc. Statistics\\\\Data Engineering\\\\Final Exam\\\\RawData'\n",
    "\n",
    "\n",
    "def process_file(file_path, output_path):\n",
    "    \n",
    "    # Load the data with specified data types and only selected columns\n",
    "    df = pd.read_csv(file_path, usecols=selected_columns, dtype=dtype_mapping)\n",
    "\n",
    "    df['NAICSCode'] = df['NAICSCode'].str[:2].astype('category')\n",
    "\n",
    "    # Save the sampled data of each file to a new CSV file\n",
    "    df.to_csv(output_path, index=False)\n",
    "    \n",
    "    return df\n"
   ]
  },
  {
   "cell_type": "code",
   "execution_count": 6,
   "id": "05bfce11-2b8e-4fe7-b390-b06455513fd9",
   "metadata": {},
   "outputs": [],
   "source": [
    "# Create an empty list to fill with each file\n",
    "results = []\n",
    "\n",
    "# list of files to work with\n",
    "csv_files = [f\"public_up_to_150k_{i}_230930.csv\" for i in range(1, 13)]\n",
    "csv_files = [os.path.join(folder_path, f) for f in csv_files]"
   ]
  },
  {
   "cell_type": "code",
   "execution_count": 7,
   "id": "75debd7f-d945-45c7-9980-1ba1be4e559e",
   "metadata": {},
   "outputs": [],
   "source": [
    "# Process each file\n",
    "for file_path in csv_files:\n",
    "    output_path = os.path.join(output_folder, f'sampled_{os.path.basename(file_path)}')\n",
    "    df = process_file(file_path, output_path)\n",
    "    results.append(df)\n",
    "\n",
    "# Concatenate all DataFrames in the results list into a single DataFrame\n",
    "combined_df = pd.concat(results)"
   ]
  },
  {
   "cell_type": "markdown",
   "id": "6a5ba8dc-c8f8-462a-9ccb-be970aecf6e5",
   "metadata": {},
   "source": [
    "2. Add in the data frame a LoanProgram variable that takes the value “PPP” for all rows."
   ]
  },
  {
   "cell_type": "code",
   "execution_count": 8,
   "id": "2ca216f1-afb3-4baa-8d87-73db38c4627e",
   "metadata": {},
   "outputs": [],
   "source": [
    "# Add the LoanProgram column in the df. This column will have the value \"PPP\" in each row\n",
    "combined_df['LoanProgram'] = 'PPP'"
   ]
  },
  {
   "cell_type": "code",
   "execution_count": 9,
   "id": "62151aa3-f3c2-45ad-8e73-da3410b59f1b",
   "metadata": {},
   "outputs": [
    {
     "name": "stdout",
     "output_type": "stream",
     "text": [
      "  DateApproved BorrowerState  CurrentApprovalAmount NAICSCode LoanProgram\n",
      "0   01/22/2021           NaN          149360.593750        62         PPP\n",
      "1   05/01/2020           NaN          148440.000000        33         PPP\n",
      "2   05/01/2020           NaN          140081.781250       NaN         PPP\n",
      "3   05/01/2020           NaN          136520.953125        54         PPP\n",
      "4   04/28/2020           NaN          130600.000000        62         PPP\n",
      "5   05/01/2020           NaN          126798.000000       NaN         PPP\n",
      "6   05/01/2020           NaN          125916.000000        99         PPP\n",
      "7   05/01/2020           NaN          111200.000000        33         PPP\n",
      "8   05/01/2020           NaN          109988.000000        23         PPP\n",
      "9   05/01/2020           NaN          100000.000000        62         PPP\n"
     ]
    }
   ],
   "source": [
    "# Display the first few rows of the final DataFrame\n",
    "print(combined_df.head(10))"
   ]
  },
  {
   "cell_type": "code",
   "execution_count": 10,
   "id": "c1293ffa-0828-41c7-8a18-d1c4d0726109",
   "metadata": {},
   "outputs": [
    {
     "name": "stdout",
     "output_type": "stream",
     "text": [
      "First 153 rows of the DataFrame:\n",
      "    DateApproved BorrowerState  CurrentApprovalAmount NAICSCode LoanProgram\n",
      "0     01/22/2021           NaN          149360.593750        62         PPP\n",
      "1     05/01/2020           NaN          148440.000000        33         PPP\n",
      "2     05/01/2020           NaN          140081.781250       NaN         PPP\n",
      "3     05/01/2020           NaN          136520.953125        54         PPP\n",
      "4     04/28/2020           NaN          130600.000000        62         PPP\n",
      "..           ...           ...                    ...       ...         ...\n",
      "148   05/01/2020           NaN            2445.000000        56         PPP\n",
      "149   05/21/2020           NaN            2194.000000        56         PPP\n",
      "150   05/01/2020           NaN            2125.000000        54         PPP\n",
      "151   02/16/2021           NaN             856.000000        49         PPP\n",
      "152   06/02/2020            AE           27400.000000        54         PPP\n",
      "\n",
      "[153 rows x 5 columns]\n",
      "\n",
      "Total rows after the 153rd row: 10499621\n",
      "Rows with NaN in 'BorrowerState' after the 153rd row: 0 (0.00%)\n"
     ]
    }
   ],
   "source": [
    "# Clean 'BorrowerState' colunm from missing values\n",
    "# Inspect the first 153 rows\n",
    "print(\"First 153 rows of the DataFrame:\")\n",
    "print(combined_df.head(153))\n",
    "\n",
    "# Check for NaN values in 'BorrowerState' after the 153rd row\n",
    "nan_after_153 = combined_df.iloc[153:]['BorrowerState'].isna().sum()\n",
    "total_after_153 = combined_df.iloc[153:].shape[0]\n",
    "nan_percentage_after_153 = (nan_after_153 / total_after_153) * 100\n",
    "\n",
    "print(f\"\\nTotal rows after the 153rd row: {total_after_153}\")\n",
    "print(f\"Rows with NaN in 'BorrowerState' after the 153rd row: {nan_after_153} ({nan_percentage_after_153:.2f}%)\")"
   ]
  },
  {
   "cell_type": "code",
   "execution_count": 11,
   "id": "c31125fa-0e2d-4609-a614-fe2d0f45ce28",
   "metadata": {},
   "outputs": [
    {
     "name": "stdout",
     "output_type": "stream",
     "text": [
      "First few rows after removal:\n",
      "    DateApproved BorrowerState  CurrentApprovalAmount NAICSCode LoanProgram\n",
      "153   05/14/2021            AE           20000.000000        81         PPP\n",
      "154   02/06/2021            AE           13125.000000        54         PPP\n",
      "155   04/13/2021            AE            3462.000000        56         PPP\n",
      "156   03/25/2021            AK          149997.000000        72         PPP\n",
      "157   02/18/2021            AK          149946.671875        81         PPP\n",
      "\n",
      "Shape of the cleaned DataFrame: (10499621, 5)\n"
     ]
    }
   ],
   "source": [
    "# Remove the first 153 rows of BorrowerState\n",
    "cleaned_df = combined_df.iloc[153:]\n",
    "\n",
    "# Verify the removal\n",
    "print(\"First few rows after removal:\")\n",
    "print(cleaned_df.head())\n",
    "\n",
    "# Check the shape of the cleaned DataFrame to confirm the rows have been removed\n",
    "print(\"\\nShape of the cleaned DataFrame:\", cleaned_df.shape)"
   ]
  },
  {
   "cell_type": "code",
   "execution_count": 12,
   "id": "4d84d67f-ecf6-47ac-b6e8-36d5caf84943",
   "metadata": {},
   "outputs": [],
   "source": [
    "# Reset index and drop the existing index\n",
    "cleaned_df = cleaned_df.reset_index(drop=True)\n",
    "\n",
    "# Set the new index starting from 1\n",
    "cleaned_df.index = cleaned_df.index + 1"
   ]
  },
  {
   "cell_type": "code",
   "execution_count": 13,
   "id": "54d3a52f-0bc6-4378-b4f3-500f7be48107",
   "metadata": {},
   "outputs": [
    {
     "name": "stdout",
     "output_type": "stream",
     "text": [
      "         DateApproved BorrowerState  CurrentApprovalAmount NAICSCode  \\\n",
      "1          05/14/2021            AE           20000.000000        81   \n",
      "2          02/06/2021            AE           13125.000000        54   \n",
      "3          04/13/2021            AE            3462.000000        56   \n",
      "4          03/25/2021            AK          149997.000000        72   \n",
      "5          02/18/2021            AK          149946.671875        81   \n",
      "...               ...           ...                    ...       ...   \n",
      "10499617   05/01/2020            WY             260.000000        62   \n",
      "10499618   03/24/2021            WY             256.450012        11   \n",
      "10499619   05/01/2021            WY             250.000000        11   \n",
      "10499620   03/20/2021            WY             250.000000        53   \n",
      "10499621   03/20/2021            WY             236.020004        11   \n",
      "\n",
      "         LoanProgram  \n",
      "1                PPP  \n",
      "2                PPP  \n",
      "3                PPP  \n",
      "4                PPP  \n",
      "5                PPP  \n",
      "...              ...  \n",
      "10499617         PPP  \n",
      "10499618         PPP  \n",
      "10499619         PPP  \n",
      "10499620         PPP  \n",
      "10499621         PPP  \n",
      "\n",
      "[10499621 rows x 5 columns]\n"
     ]
    }
   ],
   "source": [
    "print(cleaned_df)"
   ]
  },
  {
   "cell_type": "code",
   "execution_count": 14,
   "id": "28d49d7a-550d-4237-999c-a7cd193b54e4",
   "metadata": {},
   "outputs": [],
   "source": [
    "# Convert 'DateApproved' to proper dates\n",
    "cleaned_df['DateApproved'] = pd.to_datetime(cleaned_df['DateApproved'], errors='coerce')"
   ]
  },
  {
   "cell_type": "markdown",
   "id": "ad0defb2-08ab-4b83-a564-d9465ec02099",
   "metadata": {},
   "source": [
    "## Task 2 ##\n",
    "1. Load into an indexed Pandas data frame the variables: ACTIONDATE, PRIMPLACEOFPERFORMANCECD, FACEVALUEOFDIRECTLOANORLOANGUARANTEE for all the EIDL loans."
   ]
  },
  {
   "cell_type": "code",
   "execution_count": 15,
   "id": "5767dd99-d4f1-44aa-8d91-3ded98f5a993",
   "metadata": {},
   "outputs": [],
   "source": [
    "# Map variable types to later be correctly loaded\n",
    "dtype_mapping_eidl = {'ACTIONDATE'                          : 'str', \n",
    "                      'PRIMPLACEOFPERFORMANCECD'            : 'str',\n",
    "                      'FACEVALUEOFDIRECTLOANORLOANGUARANTEE': 'float32'\n",
    "                     }"
   ]
  },
  {
   "cell_type": "code",
   "execution_count": 16,
   "id": "61e0e0f3-1de7-47a0-b097-ba223fec8339",
   "metadata": {},
   "outputs": [],
   "source": [
    "# Select appropriate columns for analysis\n",
    "selected_columns_eidl = ['ACTIONDATE', 'PRIMPLACEOFPERFORMANCECD', 'FACEVALUEOFDIRECTLOANORLOANGUARANTEE']"
   ]
  },
  {
   "cell_type": "code",
   "execution_count": 17,
   "id": "ea701ce8-e240-4f67-8acf-d846ed0f8d54",
   "metadata": {},
   "outputs": [],
   "source": [
    "def process_file_eidl(file_path, output_path):\n",
    "    \n",
    "    # Load the data with specified data types and only selected columns\n",
    "    df = pd.read_csv(file_path, usecols=selected_columns_eidl, dtype=dtype_mapping_eidl)\n",
    "\n",
    "    # Save the sampled data of each file to a new CSV file\n",
    "    df.to_csv(output_path, index=False)\n",
    "    \n",
    "    return df\n"
   ]
  },
  {
   "cell_type": "code",
   "execution_count": 18,
   "id": "0ce51c61-ac2b-4d30-b41b-1a8f39eae63d",
   "metadata": {},
   "outputs": [],
   "source": [
    "# Assign the names of the csv files to load, in variable \"csv_files_eidl\" \n",
    "csv_files_eidl = [\n",
    "    'DATAACT_EIDL_LOANS_20200401-20200609.csv',\n",
    "    'DATAACT_EIDL_LOANS_20200610-20200625.csv',\n",
    "    'DATAACT_EIDL_LOANS_20200626-20200723.csv',\n",
    "    'DATAACT_EIDL_LOANS_20200724-20201115.csv',\n",
    "    'DATAACT_EIDL_LOANS_DMCS2.0.csv'\n",
    "]\n",
    "csv_files_eidl = [os.path.join(folder_path, f) for f in csv_files_eidl]"
   ]
  },
  {
   "cell_type": "code",
   "execution_count": 19,
   "id": "eeb8cfd7",
   "metadata": {},
   "outputs": [],
   "source": [
    "# Process each file \n",
    "results_eidl = []\n",
    "for file_path in csv_files_eidl:\n",
    "    output_path = os.path.join(output_folder, f'sampled_{os.path.basename(file_path)}.csv')\n",
    "    df2 = process_file_eidl(file_path, output_path)\n",
    "    results_eidl.append(df2)"
   ]
  },
  {
   "cell_type": "code",
   "execution_count": 20,
   "id": "b853d845",
   "metadata": {},
   "outputs": [],
   "source": [
    "# Concatenate all DataFrames in the results list into a single DataFrame\n",
    "eidl_df = pd.concat(results_eidl)"
   ]
  },
  {
   "cell_type": "code",
   "execution_count": 21,
   "id": "274fdaae",
   "metadata": {},
   "outputs": [],
   "source": [
    "# Save the concatenated DataFrame to a new csv file\n",
    "eidl_output_path = os.path.join(output_folder, 'concatenated_eidl_data.csv')\n",
    "eidl_df.to_csv(eidl_output_path, index=False)"
   ]
  },
  {
   "cell_type": "code",
   "execution_count": 22,
   "id": "d7246fc9-f3fe-49a3-9304-e19a0ce37855",
   "metadata": {},
   "outputs": [
    {
     "name": "stdout",
     "output_type": "stream",
     "text": [
      "     ACTIONDATE PRIMPLACEOFPERFORMANCECD  FACEVALUEOFDIRECTLOANORLOANGUARANTEE\n",
      "0      20200514                  GA**121                               65300.0\n",
      "1      20200514                  ID**049                              150000.0\n",
      "2      20200511                  TX**439                              150000.0\n",
      "3      20200515                  CA**059                               48700.0\n",
      "4      20200512                  WI**043                              150000.0\n",
      "...         ...                      ...                                   ...\n",
      "2823   20201114                  OH**049                               80500.0\n",
      "2824   20201114                  CA**037                                6200.0\n",
      "2825   20201114                  TX**439                               34300.0\n",
      "2826   20201114                  NH**009                               33400.0\n",
      "2827   20201114                  TX**085                               60100.0\n",
      "\n",
      "[3766274 rows x 3 columns]\n"
     ]
    }
   ],
   "source": [
    "print(eidl_df)"
   ]
  },
  {
   "cell_type": "code",
   "execution_count": 23,
   "id": "63994723-c914-4960-b7e6-ef5477865737",
   "metadata": {},
   "outputs": [],
   "source": [
    "# Convert ACTIONDATE to formal date format\n",
    "eidl_df['ACTIONDATE'] = pd.to_datetime(eidl_df['ACTIONDATE'], format='%Y%m%d', errors='coerce')"
   ]
  },
  {
   "cell_type": "code",
   "execution_count": 24,
   "id": "ed675b23-8d01-4a61-9a37-5f8a09097e68",
   "metadata": {},
   "outputs": [
    {
     "name": "stdout",
     "output_type": "stream",
     "text": [
      "     ACTIONDATE PRIMPLACEOFPERFORMANCECD  FACEVALUEOFDIRECTLOANORLOANGUARANTEE\n",
      "0    2020-05-14                  GA**121                               65300.0\n",
      "1    2020-05-14                  ID**049                              150000.0\n",
      "2    2020-05-11                  TX**439                              150000.0\n",
      "3    2020-05-15                  CA**059                               48700.0\n",
      "4    2020-05-12                  WI**043                              150000.0\n",
      "...         ...                      ...                                   ...\n",
      "2823 2020-11-14                  OH**049                               80500.0\n",
      "2824 2020-11-14                  CA**037                                6200.0\n",
      "2825 2020-11-14                  TX**439                               34300.0\n",
      "2826 2020-11-14                  NH**009                               33400.0\n",
      "2827 2020-11-14                  TX**085                               60100.0\n",
      "\n",
      "[3766274 rows x 3 columns]\n"
     ]
    }
   ],
   "source": [
    "# Display changes\n",
    "print(eidl_df)\n",
    "eidl_df = eidl_df.reset_index(drop=True)"
   ]
  },
  {
   "cell_type": "code",
   "execution_count": 25,
   "id": "00e22a8c-ba38-4351-80d8-5d859a3e5e38",
   "metadata": {},
   "outputs": [],
   "source": [
    "# Set index of eidl_df to match the one of cleaned_df\n",
    "eidl_df.index = eidl_df.index + 1"
   ]
  },
  {
   "cell_type": "code",
   "execution_count": 26,
   "id": "155504b8-3d2f-4581-a2db-5f3df3d1f883",
   "metadata": {},
   "outputs": [
    {
     "name": "stdout",
     "output_type": "stream",
     "text": [
      "        ACTIONDATE PRIMPLACEOFPERFORMANCECD  \\\n",
      "1       2020-05-14                  GA**121   \n",
      "2       2020-05-14                  ID**049   \n",
      "3       2020-05-11                  TX**439   \n",
      "4       2020-05-15                  CA**059   \n",
      "5       2020-05-12                  WI**043   \n",
      "...            ...                      ...   \n",
      "3766270 2020-11-14                  OH**049   \n",
      "3766271 2020-11-14                  CA**037   \n",
      "3766272 2020-11-14                  TX**439   \n",
      "3766273 2020-11-14                  NH**009   \n",
      "3766274 2020-11-14                  TX**085   \n",
      "\n",
      "         FACEVALUEOFDIRECTLOANORLOANGUARANTEE  \n",
      "1                                     65300.0  \n",
      "2                                    150000.0  \n",
      "3                                    150000.0  \n",
      "4                                     48700.0  \n",
      "5                                    150000.0  \n",
      "...                                       ...  \n",
      "3766270                               80500.0  \n",
      "3766271                                6200.0  \n",
      "3766272                               34300.0  \n",
      "3766273                               33400.0  \n",
      "3766274                               60100.0  \n",
      "\n",
      "[3766274 rows x 3 columns]\n"
     ]
    }
   ],
   "source": [
    "# Display changes\n",
    "print(eidl_df)"
   ]
  },
  {
   "cell_type": "markdown",
   "id": "78055560-f238-4644-b9a6-8c87e34874c8",
   "metadata": {},
   "source": [
    "2. Create a new variable in the EIDL data frame that takes the value “EIDL” for all rows"
   ]
  },
  {
   "cell_type": "code",
   "execution_count": 27,
   "id": "f3cc1a77-08d9-420f-a844-b682c716e1ec",
   "metadata": {},
   "outputs": [],
   "source": [
    "# Add the LoanProgram column\n",
    "eidl_df['LoanProgram'] = 'EIDL'"
   ]
  },
  {
   "cell_type": "markdown",
   "id": "f42cbf6d-9d4e-4f8c-98f2-868d396c8897",
   "metadata": {},
   "source": [
    "3. Retrieve the State from the PRIMPLACEOFPERFORMANCECD variable"
   ]
  },
  {
   "cell_type": "code",
   "execution_count": 28,
   "id": "fd8d8092-eb2c-48e9-8753-62510258cf37",
   "metadata": {},
   "outputs": [],
   "source": [
    "# Extract the state code from 'PRIMPLACEOFPERFORMANCECD'\n",
    "eidl_df['State'] = eidl_df['PRIMPLACEOFPERFORMANCECD'].str[:2]"
   ]
  },
  {
   "cell_type": "code",
   "execution_count": 29,
   "id": "4fc1295e-b527-48a9-bd16-45a58606e304",
   "metadata": {},
   "outputs": [],
   "source": [
    "# Drop the 'PRIMPLACEOFPERFORMANCECD' column from eidl_df\n",
    "eidl_df = eidl_df.drop(columns=['PRIMPLACEOFPERFORMANCECD'])"
   ]
  },
  {
   "cell_type": "markdown",
   "id": "b6ec4054-e382-465e-aaf3-61f802010a46",
   "metadata": {},
   "source": [
    "4. Merge the EIDL and PPP by State"
   ]
  },
  {
   "cell_type": "code",
   "execution_count": 30,
   "id": "c7c3779b-7682-476b-b3b3-e4db57c31c4a",
   "metadata": {},
   "outputs": [],
   "source": [
    "# Rename columns to of cleaned_df and eidl_df to more user friendly names\n",
    "cleaned_df = cleaned_df.rename(\n",
    "    columns={\n",
    "        'DateApproved'                          : 'Date',\n",
    "        'CurrentApprovalAmount'                 : 'LoanAmount',\n",
    "        'BorrowerState'                         : 'State'\n",
    "    }\n",
    ")\n",
    "\n",
    "eidl_df = eidl_df.rename(\n",
    "    columns={\n",
    "        'ACTIONDATE'                          : 'Date',\n",
    "        'FACEVALUEOFDIRECTLOANORLOANGUARANTEE': 'LoanAmount'\n",
    "    }\n",
    ")"
   ]
  },
  {
   "cell_type": "code",
   "execution_count": 31,
   "id": "24313a5c-0f9c-41fd-b7e2-87250d1df9d7",
   "metadata": {},
   "outputs": [
    {
     "name": "stdout",
     "output_type": "stream",
     "text": [
      "               Date State     LoanAmount NAICSCode LoanProgram\n",
      "1        2021-05-14    AE   20000.000000        81         PPP\n",
      "2        2021-02-06    AE   13125.000000        54         PPP\n",
      "3        2021-04-13    AE    3462.000000        56         PPP\n",
      "4        2021-03-25    AK  149997.000000        72         PPP\n",
      "5        2021-02-18    AK  149946.671875        81         PPP\n",
      "...             ...   ...            ...       ...         ...\n",
      "10499617 2020-05-01    WY     260.000000        62         PPP\n",
      "10499618 2021-03-24    WY     256.450012        11         PPP\n",
      "10499619 2021-05-01    WY     250.000000        11         PPP\n",
      "10499620 2021-03-20    WY     250.000000        53         PPP\n",
      "10499621 2021-03-20    WY     236.020004        11         PPP\n",
      "\n",
      "[10499621 rows x 5 columns]\n",
      "              Date  LoanAmount LoanProgram State\n",
      "1       2020-05-14     65300.0        EIDL    GA\n",
      "2       2020-05-14    150000.0        EIDL    ID\n",
      "3       2020-05-11    150000.0        EIDL    TX\n",
      "4       2020-05-15     48700.0        EIDL    CA\n",
      "5       2020-05-12    150000.0        EIDL    WI\n",
      "...            ...         ...         ...   ...\n",
      "3766270 2020-11-14     80500.0        EIDL    OH\n",
      "3766271 2020-11-14      6200.0        EIDL    CA\n",
      "3766272 2020-11-14     34300.0        EIDL    TX\n",
      "3766273 2020-11-14     33400.0        EIDL    NH\n",
      "3766274 2020-11-14     60100.0        EIDL    TX\n",
      "\n",
      "[3766274 rows x 4 columns]\n"
     ]
    }
   ],
   "source": [
    "print(cleaned_df)\n",
    "print(eidl_df)"
   ]
  },
  {
   "cell_type": "code",
   "execution_count": 32,
   "id": "4bb64294-5e29-4c32-9aea-7def61bdbd72",
   "metadata": {},
   "outputs": [],
   "source": [
    "# Ensure the column order matches\n",
    "eidl_df = eidl_df[['Date', 'State', 'LoanAmount', 'LoanProgram']]"
   ]
  },
  {
   "cell_type": "code",
   "execution_count": 33,
   "id": "3e7de995-0704-4ca4-ab52-0bd6c4b24643",
   "metadata": {},
   "outputs": [
    {
     "name": "stdout",
     "output_type": "stream",
     "text": [
      "               Date State     LoanAmount NAICSCode LoanProgram\n",
      "1        2021-05-14    AE   20000.000000        81         PPP\n",
      "2        2021-02-06    AE   13125.000000        54         PPP\n",
      "3        2021-04-13    AE    3462.000000        56         PPP\n",
      "4        2021-03-25    AK  149997.000000        72         PPP\n",
      "5        2021-02-18    AK  149946.671875        81         PPP\n",
      "...             ...   ...            ...       ...         ...\n",
      "10499617 2020-05-01    WY     260.000000        62         PPP\n",
      "10499618 2021-03-24    WY     256.450012        11         PPP\n",
      "10499619 2021-05-01    WY     250.000000        11         PPP\n",
      "10499620 2021-03-20    WY     250.000000        53         PPP\n",
      "10499621 2021-03-20    WY     236.020004        11         PPP\n",
      "\n",
      "[10499621 rows x 5 columns]\n",
      "              Date State  LoanAmount LoanProgram\n",
      "1       2020-05-14    GA     65300.0        EIDL\n",
      "2       2020-05-14    ID    150000.0        EIDL\n",
      "3       2020-05-11    TX    150000.0        EIDL\n",
      "4       2020-05-15    CA     48700.0        EIDL\n",
      "5       2020-05-12    WI    150000.0        EIDL\n",
      "...            ...   ...         ...         ...\n",
      "3766270 2020-11-14    OH     80500.0        EIDL\n",
      "3766271 2020-11-14    CA      6200.0        EIDL\n",
      "3766272 2020-11-14    TX     34300.0        EIDL\n",
      "3766273 2020-11-14    NH     33400.0        EIDL\n",
      "3766274 2020-11-14    TX     60100.0        EIDL\n",
      "\n",
      "[3766274 rows x 4 columns]\n"
     ]
    }
   ],
   "source": [
    "print(cleaned_df)\n",
    "print(eidl_df)"
   ]
  },
  {
   "cell_type": "code",
   "execution_count": 34,
   "id": "85270009-f8dd-449b-8023-7f860342af30",
   "metadata": {},
   "outputs": [
    {
     "name": "stdout",
     "output_type": "stream",
     "text": [
      "               Date State     LoanAmount NAICSCode LoanProgram\n",
      "0        2021-05-14    AE   20000.000000        81         PPP\n",
      "1        2021-02-06    AE   13125.000000        54         PPP\n",
      "2        2021-04-13    AE    3462.000000        56         PPP\n",
      "3        2021-03-25    AK  149997.000000        72         PPP\n",
      "4        2021-02-18    AK  149946.671875        81         PPP\n",
      "...             ...   ...            ...       ...         ...\n",
      "14265890 2020-11-14    OH   80500.000000       NaN        EIDL\n",
      "14265891 2020-11-14    CA    6200.000000       NaN        EIDL\n",
      "14265892 2020-11-14    TX   34300.000000       NaN        EIDL\n",
      "14265893 2020-11-14    NH   33400.000000       NaN        EIDL\n",
      "14265894 2020-11-14    TX   60100.000000       NaN        EIDL\n",
      "\n",
      "[14265895 rows x 5 columns]\n"
     ]
    }
   ],
   "source": [
    "# Concatenate the DataFrames\n",
    "loans_df = pd.concat([cleaned_df, eidl_df], ignore_index=True)\n",
    "\n",
    "# Display the combined DataFrame\n",
    "print(loans_df)"
   ]
  },
  {
   "cell_type": "markdown",
   "id": "8f6daebf-0902-4568-9487-b389e38f054f",
   "metadata": {},
   "source": [
    "## Task 3 ##\n",
    "1. Compute the total Number of Loans and Total Amount per State and NAICS code."
   ]
  },
  {
   "cell_type": "code",
   "execution_count": 35,
   "id": "60f4f47d-f3b1-4e41-9d84-12d7928405bf",
   "metadata": {},
   "outputs": [
    {
     "name": "stderr",
     "output_type": "stream",
     "text": [
      "C:\\Users\\Yasir\\AppData\\Local\\Temp\\ipykernel_20928\\299727544.py:2: FutureWarning: The default of observed=False is deprecated and will be changed to True in a future version of pandas. Pass observed=False to retain current behavior or observed=True to adopt the future default and silence this warning.\n",
      "  grouped_combined_state = loans_df.groupby(['State','NAICSCode']).agg(\n"
     ]
    },
    {
     "name": "stdout",
     "output_type": "stream",
     "text": [
      "     State NAICSCode  LoanNumber  TotalAmount\n",
      "0       59        11           0          0.0\n",
      "1       59        21           0          0.0\n",
      "2       59        22           0          0.0\n",
      "3       59        23           0          0.0\n",
      "4       59        31           0          0.0\n",
      "...    ...       ...         ...          ...\n",
      "1495    WY        71         589   13860260.0\n",
      "1496    WY        72        1623   68951856.0\n",
      "1497    WY        81        2426   53311648.0\n",
      "1498    WY        92          63    2359421.0\n",
      "1499    WY        99          74    1987132.5\n",
      "\n",
      "[1500 rows x 4 columns]\n"
     ]
    }
   ],
   "source": [
    "# Group the \"loans_df\" by 'State' and 'NAICSCode' and compute the total number of loans and total amount for each state, in a new DataFrame\n",
    "grouped_combined_state = loans_df.groupby(['State','NAICSCode']).agg(\n",
    "    LoanNumber  = ('LoanAmount', 'count'),  # Count the number of loans\n",
    "    TotalAmount = ('LoanAmount', 'sum')  # Sum the loan amounts\n",
    ").reset_index()\n",
    "\n",
    "# Display the result\n",
    "print(grouped_combined_state)"
   ]
  },
  {
   "cell_type": "code",
   "execution_count": 36,
   "id": "50702052-89f5-4ffa-8198-ae29fcebdf0d",
   "metadata": {},
   "outputs": [],
   "source": [
    "# Our DataFrame also contains navy bases of the US. To continue with the analysis, keep only US States.\n",
    "# List the US States\n",
    "actual_states = ['AL', 'AK', 'AZ', 'AR', 'CA', 'CO', 'CT', 'DE', 'FL', 'GA', 'HI', 'ID', 'IL', 'IN', 'IA', 'KS', 'KY', 'LA', \n",
    "                 'ME', 'MD', 'MA', 'MI', 'MN', 'MS', 'MO', 'MT', 'NE', 'NV', 'NH', 'NJ', 'NM', 'NY', 'NC', 'ND', 'OH', 'OK', \n",
    "                 'OR', 'PA', 'RI', 'SC', 'SD', 'TN', 'TX', 'UT', 'VT', 'VA', 'WA', 'WV', 'WI', 'WY', 'DC']\n",
    "\n",
    "# Filter the DataFrame to keep only actual states\n",
    "grouped_combined_state = grouped_combined_state[grouped_combined_state['State'].isin(actual_states)]"
   ]
  },
  {
   "cell_type": "code",
   "execution_count": 37,
   "id": "7243d2e2-20aa-4bdc-befa-8d0ae43b3fa5",
   "metadata": {},
   "outputs": [
    {
     "name": "stdout",
     "output_type": "stream",
     "text": [
      "     State NAICSCode  LoanNumber   TotalAmount\n",
      "75      AK        11        3922  1.150438e+08\n",
      "76      AK        21          73  3.166842e+06\n",
      "77      AK        22          20  1.302001e+06\n",
      "78      AK        23        2118  8.296072e+07\n",
      "79      AK        31         213  7.304048e+06\n",
      "...    ...       ...         ...           ...\n",
      "1495    WY        71         589  1.386026e+07\n",
      "1496    WY        72        1623  6.895186e+07\n",
      "1497    WY        81        2426  5.331165e+07\n",
      "1498    WY        92          63  2.359421e+06\n",
      "1499    WY        99          74  1.987132e+06\n",
      "\n",
      "[1275 rows x 4 columns]\n"
     ]
    }
   ],
   "source": [
    "# Display changes\n",
    "print(grouped_combined_state)"
   ]
  },
  {
   "cell_type": "code",
   "execution_count": 38,
   "id": "c5f6a23d-5fb9-4104-9280-d5bc54da549d",
   "metadata": {},
   "outputs": [],
   "source": [
    "# Reset index\n",
    "grouped_combined_state = grouped_combined_state.reset_index(drop=True) "
   ]
  },
  {
   "cell_type": "code",
   "execution_count": 39,
   "id": "5b908da5-a407-40bf-9f4d-243f463fe2cb",
   "metadata": {},
   "outputs": [],
   "source": [
    "# Set index to start from 1\n",
    "grouped_combined_state.index = grouped_combined_state.index + 1"
   ]
  },
  {
   "cell_type": "markdown",
   "id": "12355ba6-eaf9-474b-beaa-9480258ac71a",
   "metadata": {},
   "source": [
    "2. Load the US Census’s Annual Business Survey data into a Pandas data frame and use the variables \"FIRMPDEMP\" (number of firms), \"PAYANN\" (annual payroll) and \"EMP\" (number of employees)  to normalize the Number of Loans and Total Loan Amount."
   ]
  },
  {
   "cell_type": "code",
   "execution_count": 40,
   "id": "b364de9f-e990-42c2-a6df-441839dd845a",
   "metadata": {},
   "outputs": [],
   "source": [
    "# Define the columns to be used\n",
    "cols = ['FIRMPDEMP', 'PAYANN', 'NAME', 'NAICS2017','EMP']"
   ]
  },
  {
   "cell_type": "code",
   "execution_count": 41,
   "id": "9f62b313-7967-49fc-aea3-4c0fd135f0ce",
   "metadata": {},
   "outputs": [],
   "source": [
    "# Map the columns accordingly\n",
    "map_census_cols = {'FIRMPDEMP': 'str',\n",
    "                   'NAME'     : 'str',\n",
    "                   'NAICS2017': 'str',\n",
    "                   'PAYANN'   : 'str',\n",
    "                   'EMP'      : 'str'\n",
    "                  }"
   ]
  },
  {
   "cell_type": "code",
   "execution_count": 42,
   "id": "04f033dc-1873-4a51-9944-d3fa28ee5e0f",
   "metadata": {},
   "outputs": [],
   "source": [
    "# Load the ABS data\n",
    "census_df = pd.read_csv('C:\\\\Users\\\\Mariloon\\\\Documents\\\\Desktop Backup\\\\MSc. Statistics\\\\Data Engineering\\\\Final Exam\\\\RawData\\\\ABSCS2021.AB2100CSA01-Data.csv',usecols = cols,dtype = map_census_cols, low_memory=False)"
   ]
  },
  {
   "cell_type": "code",
   "execution_count": 43,
   "id": "e757b96e-a99e-4375-a3c1-66d6f04d7697",
   "metadata": {},
   "outputs": [
    {
     "name": "stdout",
     "output_type": "stream",
     "text": [
      "                        NAME        NAICS2017                 FIRMPDEMP  \\\n",
      "0       Geographic Area Name  2017 NAICS code  Number of employer firms   \n",
      "1                    Alabama               00                     70218   \n",
      "2                    Alabama               00                     12234   \n",
      "3                    Alabama               00                     45451   \n",
      "4                    Alabama               00                      7977   \n",
      "...                      ...              ...                       ...   \n",
      "127394               Wyoming               99                         S   \n",
      "127395               Wyoming               99                         S   \n",
      "127396               Wyoming               99                        63   \n",
      "127397               Wyoming               99                        83   \n",
      "127398               Wyoming               99                         3   \n",
      "\n",
      "                        EMP                   PAYANN  \n",
      "0       Number of employees  Annual payroll ($1,000)  \n",
      "1                   1646723                 83863653  \n",
      "2                    131001                  5102506  \n",
      "3                    697919                 33959997  \n",
      "4                     69855                  2601361  \n",
      "...                     ...                      ...  \n",
      "127394   20 to 99 employees                        S  \n",
      "127395    0 to 19 employees                        S  \n",
      "127396                  151                     4519  \n",
      "127397                  175                     5193  \n",
      "127398                   11                     1216  \n",
      "\n",
      "[127399 rows x 5 columns]\n"
     ]
    }
   ],
   "source": [
    "# Display the census DataFrame\n",
    "print(census_df)"
   ]
  },
  {
   "cell_type": "code",
   "execution_count": 44,
   "id": "dedf7eee-0027-4fa5-9473-595e16ba50c8",
   "metadata": {},
   "outputs": [],
   "source": [
    "# Convert column types to numeric\n",
    "census_df['FIRMPDEMP'] = pd.to_numeric(census_df['FIRMPDEMP'], errors='coerce')\n",
    "census_df['PAYANN'] = pd.to_numeric(census_df['PAYANN'], errors='coerce')\n",
    "census_df['EMP'] = pd.to_numeric(census_df['EMP'], errors='coerce')"
   ]
  },
  {
   "cell_type": "code",
   "execution_count": 45,
   "id": "47d65265-ea1d-4972-ad51-eb5f0c568dad",
   "metadata": {},
   "outputs": [
    {
     "name": "stdout",
     "output_type": "stream",
     "text": [
      "                        NAME        NAICS2017  FIRMPDEMP        EMP  \\\n",
      "0       Geographic Area Name  2017 NAICS code        NaN        NaN   \n",
      "1                    Alabama               00    70218.0  1646723.0   \n",
      "2                    Alabama               00    12234.0   131001.0   \n",
      "3                    Alabama               00    45451.0   697919.0   \n",
      "4                    Alabama               00     7977.0    69855.0   \n",
      "...                      ...              ...        ...        ...   \n",
      "127394               Wyoming               99        NaN        NaN   \n",
      "127395               Wyoming               99        NaN        NaN   \n",
      "127396               Wyoming               99       63.0      151.0   \n",
      "127397               Wyoming               99       83.0      175.0   \n",
      "127398               Wyoming               99        3.0       11.0   \n",
      "\n",
      "            PAYANN  \n",
      "0              NaN  \n",
      "1       83863653.0  \n",
      "2        5102506.0  \n",
      "3       33959997.0  \n",
      "4        2601361.0  \n",
      "...            ...  \n",
      "127394         NaN  \n",
      "127395         NaN  \n",
      "127396      4519.0  \n",
      "127397      5193.0  \n",
      "127398      1216.0  \n",
      "\n",
      "[127399 rows x 5 columns]\n"
     ]
    }
   ],
   "source": [
    "print(census_df)"
   ]
  },
  {
   "cell_type": "code",
   "execution_count": 46,
   "id": "08c416b6-006a-4cab-a1b4-3fd53b0c5f34",
   "metadata": {},
   "outputs": [],
   "source": [
    "# Clean census DataFrame from missing values\n",
    "census_df_cleaned = census_df.dropna()"
   ]
  },
  {
   "cell_type": "code",
   "execution_count": 47,
   "id": "db678ad5-2001-4c89-908a-b8f6348a8973",
   "metadata": {},
   "outputs": [
    {
     "name": "stdout",
     "output_type": "stream",
     "text": [
      "           NAME NAICS2017  FIRMPDEMP        EMP      PAYANN\n",
      "1       Alabama        00    70218.0  1646723.0  83863653.0\n",
      "2       Alabama        00    12234.0   131001.0   5102506.0\n",
      "3       Alabama        00    45451.0   697919.0  33959997.0\n",
      "4       Alabama        00     7977.0    69855.0   2601361.0\n",
      "5       Alabama        00     1177.0    14650.0    572673.0\n",
      "...         ...       ...        ...        ...         ...\n",
      "127389  Wyoming        99       66.0      158.0      4678.0\n",
      "127391  Wyoming        99        6.0        5.0       189.0\n",
      "127396  Wyoming        99       63.0      151.0      4519.0\n",
      "127397  Wyoming        99       83.0      175.0      5193.0\n",
      "127398  Wyoming        99        3.0       11.0      1216.0\n",
      "\n",
      "[57962 rows x 5 columns]\n"
     ]
    }
   ],
   "source": [
    "print(census_df_cleaned)"
   ]
  },
  {
   "cell_type": "code",
   "execution_count": 48,
   "id": "fcba54e6-d9fd-4baa-802d-c3438996dc30",
   "metadata": {},
   "outputs": [],
   "source": [
    "# Rename census DataFrame columns to match the previous DataFrames\n",
    "census_df_cleaned = census_df_cleaned.rename(\n",
    "    columns = {\n",
    "        'NAME'     : 'State',\n",
    "        'NAICS2017': 'NAICSCode',\n",
    "        'FIRMPDEMP': 'FirmNumber',\n",
    "        'EMP'      : 'EmployeesNumber',\n",
    "        'PAYANN'   : 'AnnualPay'\n",
    "    }\n",
    ")"
   ]
  },
  {
   "cell_type": "code",
   "execution_count": 49,
   "id": "1b1fc31d-6bca-4dfb-838e-0a20e1f8fbae",
   "metadata": {},
   "outputs": [],
   "source": [
    "# Map State abbreviatins\n",
    "state_abbreviations = {\n",
    "    'Alabama': 'AL', 'Alaska': 'AK', 'Arizona': 'AZ', 'Arkansas': 'AR', 'California': 'CA', 'Colorado': 'CO', \n",
    "    'Connecticut': 'CT', 'Delaware': 'DE', 'Florida': 'FL', 'Georgia': 'GA', 'Hawaii': 'HI', 'Idaho': 'ID', \n",
    "    'Illinois': 'IL', 'Indiana': 'IN', 'Iowa': 'IA', 'Kansas': 'KS', 'Kentucky': 'KY', 'Louisiana': 'LA', \n",
    "    'Maine': 'ME', 'Maryland': 'MD', 'Massachusetts': 'MA', 'Michigan': 'MI', 'Minnesota': 'MN', \n",
    "    'Mississippi': 'MS', 'Missouri': 'MO', 'Montana': 'MT', 'Nebraska': 'NE', 'Nevada': 'NV', 'New Hampshire': 'NH', \n",
    "    'New Jersey': 'NJ', 'New Mexico': 'NM', 'New York': 'NY', 'North Carolina': 'NC', 'North Dakota': 'ND', \n",
    "    'Ohio': 'OH', 'Oklahoma': 'OK', 'Oregon': 'OR', 'Pennsylvania': 'PA', 'Rhode Island': 'RI', 'South Carolina': 'SC', \n",
    "    'South Dakota': 'SD', 'Tennessee': 'TN', 'Texas': 'TX', 'Utah': 'UT', 'Vermont': 'VT', 'Virginia': 'VA', \n",
    "    'Washington': 'WA', 'West Virginia': 'WV', 'Wisconsin': 'WI', 'Wyoming': 'WY'\n",
    "}\n",
    "\n",
    "# Convert State names to abbreviations in the first DataFrame\n",
    "census_df_cleaned['State'] = census_df_cleaned['State'].map(state_abbreviations)"
   ]
  },
  {
   "cell_type": "code",
   "execution_count": 50,
   "id": "aa4fee5b-8648-42cb-b337-cec5efed9afb",
   "metadata": {},
   "outputs": [],
   "source": [
    "# Group census data by 'State' and 'NAICSCode'\n",
    "grouped_census_data = census_df_cleaned.groupby(['State','NAICSCode']).agg(\n",
    "    TotalFirms      = ('FirmNumber', 'sum'),  # Count the number of loans\n",
    "    TotalPayroll    = ('AnnualPay', 'sum'),  # Sum the loan amounts\n",
    "    TotalEmployees  = ('EmployeesNumber', 'sum')\n",
    ").reset_index()"
   ]
  },
  {
   "cell_type": "code",
   "execution_count": 51,
   "id": "2fb78a67-012c-4050-9b0e-e454cadc385d",
   "metadata": {},
   "outputs": [
    {
     "name": "stdout",
     "output_type": "stream",
     "text": [
      "     State NAICSCode  TotalFirms  TotalPayroll  TotalEmployees\n",
      "0       AK        00    261379.0   145742621.0       2250915.0\n",
      "1       AK   11(660)      4135.0      262489.0          1121.0\n",
      "2       AK        21      1462.0     9513079.0         53625.0\n",
      "3       AK        22       513.0      548542.0          5743.0\n",
      "4       AK        23     43607.0    18208722.0        211687.0\n",
      "...    ...       ...         ...           ...             ...\n",
      "1042    WY        62     21149.0     8132374.0        181619.0\n",
      "1043    WY        71      5295.0      524888.0         28385.0\n",
      "1044    WY        72     14490.0     7628333.0        312602.0\n",
      "1045    WY   81(663)     12642.0     2433576.0         51872.0\n",
      "1046    WY        99      1425.0       96309.0          3176.0\n",
      "\n",
      "[1047 rows x 5 columns]\n"
     ]
    }
   ],
   "source": [
    "print(grouped_census_data)"
   ]
  },
  {
   "cell_type": "code",
   "execution_count": 52,
   "id": "5f52aa2e-129c-4cca-8d61-76edd0a4b61f",
   "metadata": {},
   "outputs": [],
   "source": [
    "# Merge the PPP and EIDL DataFrame with the census DataFrame\n",
    "merged_data = pd.merge(grouped_combined_state, grouped_census_data, on=['State','NAICSCode'])"
   ]
  },
  {
   "cell_type": "code",
   "execution_count": 53,
   "id": "805d7b14-e154-4bca-baf3-531d53a6e6c5",
   "metadata": {},
   "outputs": [
    {
     "name": "stdout",
     "output_type": "stream",
     "text": [
      "    State NAICSCode  LoanNumber   TotalAmount  TotalFirms  TotalPayroll  \\\n",
      "0      AK        21          73  3.166842e+06      1462.0     9513079.0   \n",
      "1      AK        22          20  1.302001e+06       513.0      548542.0   \n",
      "2      AK        23        2118  8.296072e+07     43607.0    18208722.0   \n",
      "3      AK        42         322  1.127256e+07      7315.0     5690460.0   \n",
      "4      AK        51         163  5.539186e+06      2207.0     2013125.0   \n",
      "..    ...       ...         ...           ...         ...           ...   \n",
      "694    WY        61         263  6.258467e+06       349.0      123499.0   \n",
      "695    WY        62        1814  6.406121e+07     21149.0     8132374.0   \n",
      "696    WY        71         589  1.386026e+07      5295.0      524888.0   \n",
      "697    WY        72        1623  6.895186e+07     14490.0     7628333.0   \n",
      "698    WY        99          74  1.987132e+06      1425.0       96309.0   \n",
      "\n",
      "     TotalEmployees  \n",
      "0           53625.0  \n",
      "1            5743.0  \n",
      "2          211687.0  \n",
      "3           89326.0  \n",
      "4           34485.0  \n",
      "..              ...  \n",
      "694          3191.0  \n",
      "695        181619.0  \n",
      "696         28385.0  \n",
      "697        312602.0  \n",
      "698          3176.0  \n",
      "\n",
      "[699 rows x 7 columns]\n"
     ]
    }
   ],
   "source": [
    "print(merged_data)"
   ]
  },
  {
   "cell_type": "code",
   "execution_count": 54,
   "id": "921cb7a3-cca3-4a18-be98-2c4a3bb8e1d1",
   "metadata": {},
   "outputs": [],
   "source": [
    "# Create a new column in the \"merged_data\" DataFrame that contains the normalized total amount per employees (divide TotalAmount with TotalEmployees)\n",
    "merged_data['NormalizedTotalAmountPerEmployees'] = merged_data['TotalAmount'] / merged_data['TotalEmployees']"
   ]
  },
  {
   "cell_type": "code",
   "execution_count": 55,
   "id": "5cf627f1-813b-476f-aec0-6fdf4aa6b36c",
   "metadata": {},
   "outputs": [],
   "source": [
    "# Create a new column in the \"merged_data\" DataFrame that contains the normalized loan number (divide LoanNumber with TotalFirms)\n",
    "merged_data['NormalizedLoanNumber'] = merged_data['LoanNumber'] / merged_data['TotalFirms']"
   ]
  },
  {
   "cell_type": "code",
   "execution_count": 56,
   "id": "6098a84e-00b4-49f4-89cd-ceb1594ed65d",
   "metadata": {},
   "outputs": [],
   "source": [
    "# Create a new column in the \"merged_data\" DataFrame that contains the normalized total amount per payroll (divide TotalAmount with TotalPayroll)\n",
    "merged_data['NormalizedTotalAmountPerPayroll'] = merged_data['TotalAmount'] / merged_data['TotalPayroll']"
   ]
  },
  {
   "cell_type": "code",
   "execution_count": 57,
   "id": "a79a85f4-e399-4792-b3cc-d77bf64c5280",
   "metadata": {},
   "outputs": [
    {
     "name": "stdout",
     "output_type": "stream",
     "text": [
      "    State NAICSCode  LoanNumber   TotalAmount  TotalFirms  TotalPayroll  \\\n",
      "0      AK        21          73  3.166842e+06      1462.0     9513079.0   \n",
      "1      AK        22          20  1.302001e+06       513.0      548542.0   \n",
      "2      AK        23        2118  8.296072e+07     43607.0    18208722.0   \n",
      "3      AK        42         322  1.127256e+07      7315.0     5690460.0   \n",
      "4      AK        51         163  5.539186e+06      2207.0     2013125.0   \n",
      "..    ...       ...         ...           ...         ...           ...   \n",
      "694    WY        61         263  6.258467e+06       349.0      123499.0   \n",
      "695    WY        62        1814  6.406121e+07     21149.0     8132374.0   \n",
      "696    WY        71         589  1.386026e+07      5295.0      524888.0   \n",
      "697    WY        72        1623  6.895186e+07     14490.0     7628333.0   \n",
      "698    WY        99          74  1.987132e+06      1425.0       96309.0   \n",
      "\n",
      "     TotalEmployees  NormalizedTotalAmountPerEmployees  NormalizedLoanNumber  \\\n",
      "0           53625.0                          59.055319              0.049932   \n",
      "1            5743.0                         226.710887              0.038986   \n",
      "2          211687.0                         391.902762              0.048570   \n",
      "3           89326.0                         126.195788              0.044019   \n",
      "4           34485.0                         160.625968              0.073856   \n",
      "..              ...                                ...                   ...   \n",
      "694          3191.0                        1961.287057              0.753582   \n",
      "695        181619.0                         352.723074              0.085772   \n",
      "696         28385.0                         488.295226              0.111237   \n",
      "697        312602.0                         220.573944              0.112008   \n",
      "698          3176.0                         625.671442              0.051930   \n",
      "\n",
      "     NormalizedTotalAmountPerPayroll  \n",
      "0                           0.332893  \n",
      "1                           2.373566  \n",
      "2                           4.556098  \n",
      "3                           1.980958  \n",
      "4                           2.751536  \n",
      "..                               ...  \n",
      "694                        50.676256  \n",
      "695                         7.877308  \n",
      "696                        26.406129  \n",
      "697                         9.038915  \n",
      "698                        20.632885  \n",
      "\n",
      "[699 rows x 10 columns]\n"
     ]
    }
   ],
   "source": [
    "# Display changes\n",
    "print(merged_data)"
   ]
  },
  {
   "cell_type": "code",
   "execution_count": 1,
   "id": "58e3f71d-e44f-4588-a4a5-eeb7c357c408",
   "metadata": {},
   "outputs": [
    {
     "ename": "NameError",
     "evalue": "name 'merged_data' is not defined",
     "output_type": "error",
     "traceback": [
      "\u001b[1;31m---------------------------------------------------------------------------\u001b[0m",
      "\u001b[1;31mNameError\u001b[0m                                 Traceback (most recent call last)",
      "Cell \u001b[1;32mIn[1], line 1\u001b[0m\n\u001b[1;32m----> 1\u001b[0m filtered_data \u001b[38;5;241m=\u001b[39m merged_data[(merged_data[\u001b[38;5;124m'\u001b[39m\u001b[38;5;124mNAICSCode\u001b[39m\u001b[38;5;124m'\u001b[39m] \u001b[38;5;241m==\u001b[39m \u001b[38;5;124m'\u001b[39m\u001b[38;5;124m71\u001b[39m\u001b[38;5;124m'\u001b[39m) \u001b[38;5;241m&\u001b[39m (merged_data[\u001b[38;5;124m'\u001b[39m\u001b[38;5;124mState\u001b[39m\u001b[38;5;124m'\u001b[39m]\u001b[38;5;241m.\u001b[39misin([\u001b[38;5;124m'\u001b[39m\u001b[38;5;124mMI\u001b[39m\u001b[38;5;124m'\u001b[39m, \u001b[38;5;124m'\u001b[39m\u001b[38;5;124mNC\u001b[39m\u001b[38;5;124m'\u001b[39m]))]\n",
      "\u001b[1;31mNameError\u001b[0m: name 'merged_data' is not defined"
     ]
    }
   ],
   "source": [
    "filtered_data = merged_data[(merged_data['NAICSCode'] == '71') & (merged_data['State'].isin(['MI', 'NC']))]"
   ]
  },
  {
   "cell_type": "markdown",
   "id": "d8502bc3-04aa-4ff1-b6b7-d6ddea742b2d",
   "metadata": {},
   "source": [
    "3. Plot two heat maps of the US by State, that show the normalized variables."
   ]
  },
  {
   "cell_type": "code",
   "execution_count": 2,
   "id": "3c6025b8-7448-4eec-8116-16019f61750c",
   "metadata": {},
   "outputs": [
    {
     "ename": "NameError",
     "evalue": "name 'plt' is not defined",
     "output_type": "error",
     "traceback": [
      "\u001b[1;31m---------------------------------------------------------------------------\u001b[0m",
      "\u001b[1;31mNameError\u001b[0m                                 Traceback (most recent call last)",
      "Cell \u001b[1;32mIn[2], line 2\u001b[0m\n\u001b[0;32m      1\u001b[0m \u001b[38;5;66;03m# Create the first heatmap for Normalized Loan Number by Employees\u001b[39;00m\n\u001b[1;32m----> 2\u001b[0m plt\u001b[38;5;241m.\u001b[39mfigure(figsize\u001b[38;5;241m=\u001b[39m(\u001b[38;5;241m10\u001b[39m, \u001b[38;5;241m12\u001b[39m))\n\u001b[0;32m      3\u001b[0m heatmap_data_count \u001b[38;5;241m=\u001b[39m merged_data\u001b[38;5;241m.\u001b[39mpivot_table(values\u001b[38;5;241m=\u001b[39m\u001b[38;5;124m'\u001b[39m\u001b[38;5;124mNormalizedLoanNumber\u001b[39m\u001b[38;5;124m'\u001b[39m, index\u001b[38;5;241m=\u001b[39m\u001b[38;5;124m'\u001b[39m\u001b[38;5;124mState\u001b[39m\u001b[38;5;124m'\u001b[39m, aggfunc\u001b[38;5;241m=\u001b[39m\u001b[38;5;124m'\u001b[39m\u001b[38;5;124msum\u001b[39m\u001b[38;5;124m'\u001b[39m)\n\u001b[0;32m      4\u001b[0m sns\u001b[38;5;241m.\u001b[39mheatmap(heatmap_data_count, cmap\u001b[38;5;241m=\u001b[39m\u001b[38;5;124m'\u001b[39m\u001b[38;5;124mviridis\u001b[39m\u001b[38;5;124m'\u001b[39m,annot\u001b[38;5;241m=\u001b[39m\u001b[38;5;28;01mTrue\u001b[39;00m, linewidths\u001b[38;5;241m=\u001b[39m\u001b[38;5;241m.5\u001b[39m, cbar_kws\u001b[38;5;241m=\u001b[39m{\u001b[38;5;124m'\u001b[39m\u001b[38;5;124mlabel\u001b[39m\u001b[38;5;124m'\u001b[39m: \u001b[38;5;124m'\u001b[39m\u001b[38;5;124mNormalized Loan Number by Number of Firms\u001b[39m\u001b[38;5;124m'\u001b[39m})\n",
      "\u001b[1;31mNameError\u001b[0m: name 'plt' is not defined"
     ]
    }
   ],
   "source": [
    "# Create the first heatmap for Normalized Loan Number by Employees\n",
    "plt.figure(figsize=(10, 20))\n",
    "heatmap_data_count = merged_data.pivot_table(values='NormalizedLoanNumber', index='State', aggfunc='mean')\n",
    "ax = sns.heatmap(heatmap_data_count, cmap='viridis', annot=True, linewidths=.5, cbar_kws={'label': 'Normalized Loan Number by Number of Firms'}, annot_kws={\"size\": 16})\n",
    "plt.xlabel('')\n",
    "plt.ylabel('State', fontsize=20)  # Increase the fontsize for y-axis label\n",
    "plt.xticks([])\n",
    "plt.yticks(fontsize=16, rotation=0)  # Set the rotation to 0 to display the state names horizontally\n",
    "cbar = ax.collections[0].colorbar\n",
    "cbar.ax.tick_params(labelsize=16)\n",
    "cbar.set_label('Normalized Loan Number by Number of Firms', fontsize=20) \n",
    "\n",
    "# Save the plot as a JPG image\n",
    "output_path = 'C:\\\\Users\\\\kosti\\\\OneDrive\\\\Desktop\\\\Data Engineering\\\\Homework2\\\\CovidRecovery\\\\RawData\\\\normalized_loan_number_heatmap.jpg'\n",
    "plt.savefig(output_path, bbox_inches='tight', format='jpg')\n",
    "plt.show()"
   ]
  },
  {
   "cell_type": "code",
   "execution_count": 73,
   "id": "ecad3e4e",
   "metadata": {},
   "outputs": [
    {
     "data": {
      "image/png": "[encoded data removed]",
      "text/plain": [
       "<Figure size 1000x1200 with 2 Axes>"
      ]
     },
     "metadata": {},
     "output_type": "display_data"
    }
   ],
   "source": [
    "# Create the second heatmap for Normalized Total Amount by Number of Employees\n",
    "new_cmap = sns.color_palette(\"plasma\", as_cmap=True)\n",
    "plt.figure(figsize=(10, 20))\n",
    "heatmap_data_amount = merged_data.pivot_table(values='NormalizedTotalAmountPerEmployees', index='State', aggfunc='mean')\n",
    "ax = sns.heatmap(heatmap_data_amount, cmap=new_cmap, linewidths=.5, fmt='.0f', annot=True, cbar_kws={'label': 'Normalized Total Amount by Number of Employees'}, annot_kws={\"size\": 16})\n",
    "plt.xlabel('')\n",
    "plt.ylabel('State', fontsize=20)  # Increase the fontsize for y-axis label\n",
    "plt.xticks([])\n",
    "plt.yticks(fontsize=16, rotation=0)  # Set the rotation to 0 to display the state names horizontally\n",
    "cbar = ax.collections[0].colorbar\n",
    "cbar.ax.tick_params(labelsize=16)\n",
    "cbar.set_label('Normalized Total Amount by Number of Employees', fontsize=20)  # Set the label font size\n",
    "\n",
    "# Save the plot as a JPG image\n",
    "output_path = 'C:\\\\Users\\\\kosti\\\\OneDrive\\\\Desktop\\\\Data Engineering\\\\Homework2\\\\CovidRecovery\\\\RawData\\\\normalized_total_amount_employees_heatmap.jpg'\n",
    "plt.savefig(output_path, bbox_inches='tight', format='jpg')\n",
    "plt.show()"
   ]
  },
  {
   "cell_type": "code",
   "execution_count": 76,
   "id": "6496d6d9",
   "metadata": {},
   "outputs": [
    {
     "data": {
      "image/png": "[encoded data removed]",
      "text/plain": [
       "<Figure size 1000x1200 with 2 Axes>"
      ]
     },
     "metadata": {},
     "output_type": "display_data"
    }
   ],
   "source": [
    "# Create the second heatmap for Normalized Total Amount Per Payroll\n",
    "plt.figure(figsize=(10, 20))\n",
    "heatmap_data_amount = merged_data.pivot_table(values='NormalizedTotalAmountPerPayroll', index='State', aggfunc='mean')\n",
    "ax = sns.heatmap(heatmap_data_amount, cmap=new_cmap, linewidths=.5, annot=True, fmt='.0f', cbar_kws={'label': 'Normalized Total Amount by Total Payroll'}, annot_kws={\"size\": 16})\n",
    "plt.xlabel('')\n",
    "plt.ylabel('State', fontsize=20)  # Increase the fontsize for y-axis label\n",
    "plt.xticks([])\n",
    "plt.yticks(fontsize=16, rotation=0)  # Set the rotation to 0 to display the state names horizontally\n",
    "cbar = ax.collections[0].colorbar\n",
    "cbar.ax.tick_params(labelsize=16)\n",
    "cbar.set_label('Normalized Total Amount by Total Payroll', fontsize=20)  # Set the label font size\n",
    "\n",
    "# Save the plot as a JPG image\n",
    "output_path = 'C:\\\\Users\\\\kosti\\\\OneDrive\\\\Desktop\\\\Data Engineering\\\\Homework2\\\\CovidRecovery\\\\RawData\\\\normalized_total_amount_payroll_heatmap.jpg'\n",
    "plt.savefig(output_path, bbox_inches='tight', format='jpg')\n",
    "plt.show()"
   ]
  },
  {
   "cell_type": "code",
   "execution_count": null,
   "id": "3c3c8caa-648a-4b58-9ede-730b8cd06f32",
   "metadata": {},
   "outputs": [],
   "source": [
    "# Filter the \"merged_data\" DataFrame to take only the data which are about the NAICSCode 71 (arts, entertainment, and recreation)\n",
    "filtered_data = merged_data[(merged_data['NAICSCode'] == '71') & (merged_data['State'].isin(['MI', 'NC']))]"
   ]
  },
  {
   "cell_type": "code",
   "execution_count": null,
   "id": "f7e3ff3d-9520-4480-9c50-ef4296e0ef30",
   "metadata": {},
   "outputs": [],
   "source": [
    "# Group by 'NAICSCode' and sum 'NormalizedTotalAmountPerPayroll'\n",
    "grouped_data = merged_data.groupby('NAICSCode')['NormalizedTotalAmountPerPayroll'].sum().reset_index()\n",
    "\n",
    "# Sort the DataFrame by 'NormalizedTotalAmountPerPayroll' in decreasing order\n",
    "sorted_grouped_data = grouped_data.sort_values(by='NormalizedTotalAmountPerPayroll', ascending=False)"
   ]
  },
  {
   "cell_type": "code",
   "execution_count": null,
   "id": "d67f4ec9-5cd6-4454-80ca-986021f6c089",
   "metadata": {},
   "outputs": [],
   "source": [
    "print(sorted_grouped_data.head(2))"
   ]
  },
  {
   "cell_type": "code",
   "execution_count": null,
   "id": "cd81aea0-6d5a-4e4a-8670-8259a61c7c3a",
   "metadata": {},
   "outputs": [],
   "source": [
    "print(sorted_grouped_data.tail(2))"
   ]
  }
 ],
 "metadata": {
  "kernelspec": {
   "display_name": "Python 3 (ipykernel)",
   "language": "python",
   "name": "python3"
  },
  "language_info": {
   "codemirror_mode": {
    "name": "ipython",
    "version": 3
   },
   "file_extension": ".py",
   "mimetype": "text/x-python",
   "name": "python",
   "nbconvert_exporter": "python",
   "pygments_lexer": "ipython3",
   "version": "3.11.7"
  }
 },
 "nbformat": 4,
 "nbformat_minor": 5
}
